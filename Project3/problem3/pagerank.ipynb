{
 "cells": [
  {
   "cell_type": "code",
   "execution_count": 13,
   "metadata": {
    "scrolled": true
   },
   "outputs": [
    {
     "data": {
      "text/plain": [
       "file: org.apache.spark.rdd.RDD[String] = MapPartitionsRDD[752] at rdd at <console>:29\n",
       "header: String = # FromNodeId\tToNodeId\n",
       "lines: org.apache.spark.rdd.RDD[String] = MapPartitionsRDD[753] at filter at <console>:31\n",
       "pairs: org.apache.spark.rdd.RDD[(String, String)] = MapPartitionsRDD[754] at map at <console>:32\n",
       "links: org.apache.spark.rdd.RDD[(String, Iterable[String])] = ShuffledRDD[758] at groupByKey at <console>:36\n"
      ]
     },
     "execution_count": 13,
     "metadata": {},
     "output_type": "execute_result"
    }
   ],
   "source": [
    "val file = spark.read.textFile(\"soc-LiveJournal1.txt\").rdd\n",
    "var header = file.first()\n",
    "var lines = file.filter(row => row != header)\n",
    "val pairs = lines.map{ s =>\n",
    "      val parts = s.split(\"\\\\s+\")               // Splits a line into an array of 2 elements according space(s)\n",
    "             (parts(0), parts(1))                 // create the parts<url, url> for each line in the file\n",
    "    }\n",
    "val links = pairs.distinct().groupByKey()"
   ]
  },
  {
   "cell_type": "code",
   "execution_count": 14,
   "metadata": {},
   "outputs": [
    {
     "data": {
      "text/plain": [
       "ranks: org.apache.spark.rdd.RDD[(String, Double)] = MapPartitionsRDD[1109] at mapValues at <console>:38\n"
      ]
     },
     "execution_count": 14,
     "metadata": {},
     "output_type": "execute_result"
    }
   ],
   "source": [
    "var ranks = links.mapValues(v => 1.0)\n",
    "for (i <- 1 to 50) {\n",
    "    val contribs = links.join(ranks)         // join  -> RDD1\n",
    "         .values                           // extract values from RDD1 -> RDD2          \n",
    "         .flatMap{ case (urls, rank) =>    // RDD2 -> conbrib RDD\n",
    "                 val size = urls.size        \n",
    "                     urls.map(url => (url, rank / size))   // the ranks are distributed equally amongs the various URLs\n",
    "             }\n",
    "    ranks = contribs.reduceByKey(_ + _).mapValues(0.05 + 0.95 * _) // ranks RDD\n",
    "}"
   ]
  },
  {
   "cell_type": "code",
   "execution_count": 15,
   "metadata": {},
   "outputs": [
    {
     "name": "stdout",
     "output_type": "stream",
     "text": [
      "(13948,4.242923673281286)\n",
      "(39394,4.1466372490805385)\n",
      "(2678,3.502783386354853)\n",
      "(1860,3.3834146012685316)\n",
      "(31579,3.116876831018664)\n",
      "(65688,3.061540502768572)\n",
      "(28291,2.7125961746490015)\n",
      "(47507,2.664186143747885)\n",
      "(8092,2.561296081575024)\n",
      "(649,2.53610738547489)\n",
      "(65674,2.5256481815174743)\n",
      "(65677,2.4392377825956655)\n",
      "(2914,2.388312350661569)\n",
      "(17074,2.367575664302596)\n",
      "(134,2.311135952826648)\n",
      "(17604,2.2739022948645644)\n",
      "(12241,2.155953783925255)\n",
      "(12665,2.1168109889580613)\n",
      "(3240,2.094133801978064)\n",
      "(1694,2.0772926641427247)\n",
      "(59389,2.055839591992915)\n",
      "(3894,2.053954920531637)\n",
      "(30305,2.031345763102963)\n",
      "(91195,1.9710997923694995)\n",
      "(47494,1.9633175173087263)\n",
      "(22165,1.9145055820176622)\n",
      "(89076,1.9107406038592472)\n",
      "(8737,1.9008589492545938)\n",
      "(37847,1.8944593050582892)\n",
      "(38906,1.791790185363488)\n",
      "(2659,1.767425802576682)\n",
      "(42698,1.7228830336607208)\n",
      "(1854,1.646857657809781)\n",
      "(19998,1.6427244664749094)\n",
      "(15761,1.6382626125022899)\n",
      "(35089,1.600525976921303)\n",
      "(1220,1.5867346768397104)\n",
      "(27909,1.5833299932660472)\n",
      "(214538,1.560013635942875)\n",
      "(87676,1.551711802406481)\n",
      "(90414,1.5122494731841238)\n",
      "(44867,1.5012264302713536)\n",
      "(1776,1.4309026558556213)\n",
      "(23608,1.4130808796925287)\n",
      "(23966,1.4092995951716516)\n",
      "(87206,1.4065280812102319)\n",
      "(47695,1.4055105562795835)\n",
      "(2687,1.403121476729903)\n",
      "(41364,1.3710701097842324)\n",
      "(38409,1.3531862874170035)\n",
      "(38403,1.3531862874170035)\n",
      "(38404,1.3531862874170035)\n",
      "(38405,1.3531862874170035)\n",
      "(38406,1.3531862874170035)\n",
      "(38410,1.3531862874170035)\n",
      "(38411,1.3531862874170035)\n",
      "(4494,1.3486340284022358)\n",
      "(3873,1.3485667683358815)\n",
      "(38412,1.3473834028477951)\n",
      "(38413,1.3418933460282678)\n",
      "(38414,1.3418933460282678)\n",
      "(38415,1.328522723224523)\n",
      "(38416,1.327007992209647)\n",
      "(38420,1.327007992209647)\n",
      "(38417,1.327007992209647)\n",
      "(38418,1.327007992209647)\n",
      "(38421,1.327007992209647)\n",
      "(38419,1.327007992209647)\n",
      "(38407,1.3269213839667262)\n",
      "(1849,1.326592305568212)\n",
      "(38423,1.325221570504633)\n",
      "(38422,1.325221570504633)\n",
      "(38434,1.322569150099561)\n",
      "(38435,1.322569150099561)\n",
      "(38427,1.322569150099561)\n",
      "(38430,1.322569150099561)\n",
      "(38431,1.322569150099561)\n",
      "(38428,1.322569150099561)\n",
      "(38429,1.322569150099561)\n",
      "(38432,1.322569150099561)\n",
      "(38433,1.322569150099561)\n",
      "(38437,1.31782607358194)\n",
      "(38438,1.31782607358194)\n",
      "(38440,1.3051920821323293)\n",
      "(38424,1.3005045119842427)\n",
      "(38426,1.2997014330962617)\n",
      "(88697,1.298417729984595)\n",
      "(38441,1.2958405629486354)\n",
      "(38439,1.2922474337123002)\n",
      "(38442,1.2917139909768103)\n",
      "(52088,1.2881887400365042)\n",
      "(38443,1.276244987219755)\n",
      "(31169,1.2748306212306777)\n",
      "(44769,1.269266722104157)\n",
      "(26408,1.2617585054601819)\n",
      "(38446,1.260727937564447)\n",
      "(38444,1.260727937564447)\n",
      "(36583,1.2598038944819399)\n",
      "(85478,1.2588049640374974)\n",
      "(2689,1.2558188294849915)\n"
     ]
    },
    {
     "data": {
      "text/plain": [
       "sorted: org.apache.spark.rdd.RDD[(String, Double)] = MapPartitionsRDD[1114] at sortBy at <console>:28\n"
      ]
     },
     "execution_count": 15,
     "metadata": {},
     "output_type": "execute_result"
    }
   ],
   "source": [
    "var sorted = ranks.sortBy({ case (_, rank) => rank }, ascending = false)\n",
    "sorted.take(100).foreach(println)"
   ]
  },
  {
   "cell_type": "code",
   "execution_count": null,
   "metadata": {},
   "outputs": [],
   "source": []
  }
 ],
 "metadata": {
  "kernelspec": {
   "display_name": "spylon-kernel",
   "language": "scala",
   "name": "spylon-kernel"
  },
  "language_info": {
   "codemirror_mode": "text/x-scala",
   "file_extension": ".scala",
   "help_links": [
    {
     "text": "MetaKernel Magics",
     "url": "https://metakernel.readthedocs.io/en/latest/source/README.html"
    }
   ],
   "mimetype": "text/x-scala",
   "name": "scala",
   "pygments_lexer": "scala",
   "version": "0.4.1"
  }
 },
 "nbformat": 4,
 "nbformat_minor": 2
}
