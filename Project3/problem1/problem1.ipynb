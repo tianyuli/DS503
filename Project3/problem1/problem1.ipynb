{
 "cells": [
  {
   "cell_type": "code",
   "execution_count": 1,
   "metadata": {
    "scrolled": false
   },
   "outputs": [
    {
     "data": {
      "text/plain": [
       "Intitializing Scala interpreter ..."
      ]
     },
     "metadata": {},
     "output_type": "display_data"
    },
    {
     "data": {
      "text/plain": [
       "Spark Web UI available at http://192.168.174.130:4041\n",
       "SparkContext available as 'sc' (version = 2.4.4, master = local[*], app id = local-1572977657549)\n",
       "SparkSession available as 'spark'\n"
      ]
     },
     "metadata": {},
     "output_type": "display_data"
    },
    {
     "data": {
      "text/plain": [
       "import org.apache.spark.sql.Row\n",
       "import org.apache.spark.sql.types._\n",
       "transactionsRDD: org.apache.spark.rdd.RDD[String] = Transactions.csv MapPartitionsRDD[1] at textFile at <console>:28\n",
       "schemaString: String = TransID CustID TransTotal TransNumItems TransDesc\n",
       "fields: Array[org.apache.spark.sql.types.StructField] = Array(StructField(TransID,StringType,true), StructField(CustID,StringType,true), StructField(TransTotal,StringType,true), StructField(TransNumItems,StringType,true), StructField(TransDesc,StringType,true))\n",
       "schema: org.apache.spark.sql.types.StructType = StructType(StructField(TransID,StringType,true), StructField(CustID,StringType,true), StructField(TransTotal,StringType,true), StructField(TransNumItems,StringType,true), StructField(TransDesc,StringType,true))\n",
       "rowRDD: org.apache..."
      ]
     },
     "execution_count": 1,
     "metadata": {},
     "output_type": "execute_result"
    }
   ],
   "source": [
    "import org.apache.spark.sql.Row\n",
    "import org.apache.spark.sql.types._\n",
    "\n",
    "val transactionsRDD = sc.textFile(\"Transactions.csv\")\n",
    "val schemaString = \"TransID CustID TransTotal TransNumItems TransDesc\"\n",
    "\n",
    "val fields = schemaString.split(\" \").\n",
    "    map(fieldName => StructField(fieldName, StringType, nullable = true))\n",
    "val schema = StructType(fields)\n",
    "\n",
    "val rowRDD = transactionsRDD.\n",
    "    map(_.split(\",\")).\n",
    "    map(attributes => Row(attributes(0), attributes(1), attributes(2), attributes(3), attributes(4).trim))\n",
    "val transactionsDF = spark.createDataFrame(rowRDD, schema)\n",
    "transactionsDF.createOrReplaceTempView(\"transactions\")\n"
   ]
  },
  {
   "cell_type": "markdown",
   "metadata": {},
   "source": [
    "## T1:\tFilter\tout\t(drop)\tthe\ttransactions\tfrom\tT whose\ttotal\tamount\tis\tless\tthan\t$200"
   ]
  },
  {
   "cell_type": "code",
   "execution_count": 2,
   "metadata": {
    "scrolled": true
   },
   "outputs": [
    {
     "name": "stdout",
     "output_type": "stream",
     "text": [
      "+-------+------+----------+-------------+--------------------+\n",
      "|TransID|CustID|TransTotal|TransNumItems|           TransDesc|\n",
      "+-------+------+----------+-------------+--------------------+\n",
      "|      1|  6010| 244.84154|            6|00qmhpq81zp5dqqtl...|\n",
      "|      2|  6010|  761.2322|            4|57twmelrupehbujpv...|\n",
      "|      4|  6010| 486.15396|            4|9bmzncxfrp5eck11i...|\n",
      "|      5|  6010|  519.2052|            2|10edud2zzt1c3rqg9j5c|\n",
      "|      6|  6010|  866.4158|            3|v0y4avx4jqhklb9t4uu5|\n",
      "|      7|  6010| 401.36148|            1|g87mafc9jcumz7zi6os3|\n",
      "|      8|  6010|  811.5077|            8|yn2tztuaffb5e5s8w...|\n",
      "|      9|  6010| 355.71405|            1|uvbifczc9i8fvo0vx...|\n",
      "|     10|  6010| 248.01341|            8|o228lmpbzt4f81o8y...|\n",
      "|     11|  6010|  493.0697|            7|gm354212anu87w6dk13z|\n",
      "|     12|  6010| 874.57184|            9|a4m0jjh67m9nhvg7q...|\n",
      "|     13|  6010|  362.9686|            6|ybnyeiopt3wcs2n2j...|\n",
      "|     14|  6010| 499.51346|            1|mg4sbg5so0qe0rt41...|\n",
      "|     15|  6010|  907.7542|            3|1su94vgohdggw3p5s...|\n",
      "|     17| 47832|  594.5123|            2|qsc0inttrs07v3xq2...|\n",
      "|     18| 47832| 495.70023|            8|bxz580ls2j054z5xz...|\n",
      "|     19| 47832| 548.42487|            4|8uvk7d10o9kjouqyn...|\n",
      "|     20| 47832|  739.2492|            4|y21q4vjb88h8hyczlo3a|\n",
      "|     21| 47832| 594.07886|            6|ofvsmlfiqypzc0aru...|\n",
      "|     22| 47832|  977.4354|            7|mtyeu4g2bkq621sl4...|\n",
      "+-------+------+----------+-------------+--------------------+\n",
      "only showing top 20 rows\n",
      "\n"
     ]
    },
    {
     "data": {
      "text/plain": [
       "T1: org.apache.spark.sql.DataFrame = [TransID: string, CustID: string ... 3 more fields]\n"
      ]
     },
     "execution_count": 2,
     "metadata": {},
     "output_type": "execute_result"
    }
   ],
   "source": [
    "val T1 = spark.sql(\"\"\"\n",
    "    SELECT *\n",
    "    FROM transactions\n",
    "    WHERE TransTotal > 200\n",
    "    \"\"\")\n",
    "T1.createOrReplaceTempView(\"T1\")\n",
    "T1.show()"
   ]
  },
  {
   "cell_type": "markdown",
   "metadata": {},
   "source": [
    "## T2:\tOver\tT1,\tgroup\tthe\ttransactions\tby\tthe\tNumber\tof\tItems\tit\thas,\tand\tfor\teach\tgroup\tcalculate\tthe\tsum\tof\ttotal\tamounts,\tthe\taverage\tof\ttotal\tamounts,\tthe\tmin\tand\tthe\tmax\tof\tthe\ttotal\tamounts.\t"
   ]
  },
  {
   "cell_type": "code",
   "execution_count": 3,
   "metadata": {},
   "outputs": [
    {
     "data": {
      "text/plain": [
       "T2: org.apache.spark.sql.DataFrame = [TransNumItems: string, sum: double ... 3 more fields]\n"
      ]
     },
     "execution_count": 3,
     "metadata": {},
     "output_type": "execute_result"
    }
   ],
   "source": [
    "var T2 = spark.sql(\"\"\"\n",
    "    SELECT TransNumItems, sum(TransTotal) as sum, avg(TransTotal) as avg, min(TransTotal) as min, max(TransTotal) as max\n",
    "    FROM T1\n",
    "    GROUP BY TransNumItems\n",
    "    \"\"\")\n",
    "T2.createOrReplaceTempView(\"T2\")"
   ]
  },
  {
   "cell_type": "markdown",
   "metadata": {},
   "source": [
    "## 3) Report\tback\tT2\tto\tthe\tclient\tside"
   ]
  },
  {
   "cell_type": "code",
   "execution_count": 4,
   "metadata": {},
   "outputs": [
    {
     "name": "stdout",
     "output_type": "stream",
     "text": [
      "+-------------+--------------------+-----------------+---------+---------+\n",
      "|TransNumItems|                 sum|              avg|      min|      max|\n",
      "+-------------+--------------------+-----------------+---------+---------+\n",
      "|            7| 2.428920693134902E8| 600.956190653305|201.00258| 999.9943|\n",
      "|            3|2.4219615261177066E8|600.2948297777007|201.00012| 999.9989|\n",
      "|            8| 2.415458849476496E8|600.5825288489644|201.00223| 999.9958|\n",
      "|            5| 2.427451312627901E8|600.5822393885693| 201.0001|999.99457|\n",
      "|            6|2.4243184607598954E8|600.3923981980429|201.00056|999.99786|\n",
      "|            9|2.4259411774223062E8|600.7853434099744|201.00473|999.99774|\n",
      "|            1|2.4278203339485908E8|600.4893147901448|201.00418|999.99695|\n",
      "|           10| 2.423544663999102E8| 600.929995858929|201.00343|  999.999|\n",
      "|            4|2.4242956306225002E8|600.7884710812874|201.00063| 999.9983|\n",
      "|            2|2.4217897769453079E8| 600.139212898242| 201.0067|999.99835|\n",
      "+-------------+--------------------+-----------------+---------+---------+\n",
      "\n"
     ]
    }
   ],
   "source": [
    "T2.show()"
   ]
  },
  {
   "cell_type": "markdown",
   "metadata": {},
   "source": [
    "## 4) T3:\tOver\tT1,\tgroup\tthe\ttransactions\tby\tcustomer\tID,\tand\tfor\teach\tgroup\treport\tthe\tcustomer\tID,\tand\tthe\ttransactions’\tcount.\t"
   ]
  },
  {
   "cell_type": "code",
   "execution_count": 5,
   "metadata": {
    "scrolled": true
   },
   "outputs": [
    {
     "name": "stdout",
     "output_type": "stream",
     "text": [
      "+------+----------+\n",
      "|CustID|TransCount|\n",
      "+------+----------+\n",
      "| 48493|        89|\n",
      "| 26112|        86|\n",
      "| 16974|        50|\n",
      "|  8304|        94|\n",
      "|  1436|        57|\n",
      "| 14899|        73|\n",
      "| 42923|       164|\n",
      "| 20428|        37|\n",
      "| 39103|       119|\n",
      "| 39590|       150|\n",
      "| 46525|        27|\n",
      "| 39581|        80|\n",
      "| 45670|        26|\n",
      "| 21889|       126|\n",
      "| 20569|        99|\n",
      "| 21248|        36|\n",
      "| 32812|        57|\n",
      "| 49307|        54|\n",
      "| 38672|        63|\n",
      "| 22596|        87|\n",
      "+------+----------+\n",
      "only showing top 20 rows\n",
      "\n"
     ]
    },
    {
     "data": {
      "text/plain": [
       "T3: org.apache.spark.sql.DataFrame = [CustID: string, TransCount: bigint]\n"
      ]
     },
     "execution_count": 5,
     "metadata": {},
     "output_type": "execute_result"
    }
   ],
   "source": [
    "var T3 = spark.sql(\"\"\"\n",
    "    SELECT CustID, count(*) as TransCount\n",
    "    FROM T1\n",
    "    GROUP BY CustID\n",
    "    \"\"\")\n",
    "T3.createOrReplaceTempView(\"T3\")\n",
    "T3.show()"
   ]
  },
  {
   "cell_type": "markdown",
   "metadata": {},
   "source": [
    "## 5) T4:\tFilter\tout\t(drop)\tthe\ttransactions\tfrom\tT whose\ttotal\tamount\tis\tless\tthan $600"
   ]
  },
  {
   "cell_type": "code",
   "execution_count": 6,
   "metadata": {
    "scrolled": true
   },
   "outputs": [
    {
     "name": "stdout",
     "output_type": "stream",
     "text": [
      "+-------+------+----------+-------------+--------------------+\n",
      "|TransID|CustID|TransTotal|TransNumItems|           TransDesc|\n",
      "+-------+------+----------+-------------+--------------------+\n",
      "|      1|  6010| 244.84154|            6|00qmhpq81zp5dqqtl...|\n",
      "|      3|  6010| 114.15211|            9|xn29zbpk98nogxp8e...|\n",
      "|      4|  6010| 486.15396|            4|9bmzncxfrp5eck11i...|\n",
      "|      5|  6010|  519.2052|            2|10edud2zzt1c3rqg9j5c|\n",
      "|      7|  6010| 401.36148|            1|g87mafc9jcumz7zi6os3|\n",
      "|      9|  6010| 355.71405|            1|uvbifczc9i8fvo0vx...|\n",
      "|     10|  6010| 248.01341|            8|o228lmpbzt4f81o8y...|\n",
      "|     11|  6010|  493.0697|            7|gm354212anu87w6dk13z|\n",
      "|     13|  6010|  362.9686|            6|ybnyeiopt3wcs2n2j...|\n",
      "|     14|  6010| 499.51346|            1|mg4sbg5so0qe0rt41...|\n",
      "|     16| 47832|  180.7795|            3|xwbnln1s3gl119h2w...|\n",
      "|     17| 47832|  594.5123|            2|qsc0inttrs07v3xq2...|\n",
      "|     18| 47832| 495.70023|            8|bxz580ls2j054z5xz...|\n",
      "|     19| 47832| 548.42487|            4|8uvk7d10o9kjouqyn...|\n",
      "|     21| 47832| 594.07886|            6|ofvsmlfiqypzc0aru...|\n",
      "|     23| 47832| 301.92072|           10|f6a748o0tyzkmd62e...|\n",
      "|     24| 47832| 325.27164|            8|twjj19te85a2rvent...|\n",
      "|     25| 47832| 442.78268|            1|pyz00ulimn7680n95...|\n",
      "|     27| 47832| 53.112236|            7|5ocab0k0xf93906w2...|\n",
      "|     28| 47832|115.222336|            8|e3zp05461r2odm0cr...|\n",
      "+-------+------+----------+-------------+--------------------+\n",
      "only showing top 20 rows\n",
      "\n"
     ]
    },
    {
     "data": {
      "text/plain": [
       "T4: org.apache.spark.sql.DataFrame = [TransID: string, CustID: string ... 3 more fields]\n"
      ]
     },
     "execution_count": 6,
     "metadata": {},
     "output_type": "execute_result"
    }
   ],
   "source": [
    "var T4 = spark.sql(\"\"\"\n",
    "    SELECT *\n",
    "    FROM transactions\n",
    "    WHERE TransTotal < 600\n",
    "    \"\"\")\n",
    "T4.createOrReplaceTempView(\"T4\")\n",
    "T4.show()"
   ]
  },
  {
   "cell_type": "markdown",
   "metadata": {},
   "source": [
    "## 6) T5:\tOver\tT4,\tgroup\tthe\ttransactions\tby\tcustomer\tID,\tand\tfor\teach\tgroup\treport\tthe\tcustomer\tID,\tand\tthe\ttransactions’\tcount.\t"
   ]
  },
  {
   "cell_type": "code",
   "execution_count": 7,
   "metadata": {
    "scrolled": false
   },
   "outputs": [
    {
     "data": {
      "text/plain": [
       "T5: org.apache.spark.sql.DataFrame = [CustID: string, TransCount: bigint]\n"
      ]
     },
     "execution_count": 7,
     "metadata": {},
     "output_type": "execute_result"
    }
   ],
   "source": [
    "var T5 = spark.sql(\"\"\"\n",
    "    SELECT CustID, count(*) as TransCount\n",
    "    FROM T4\n",
    "    GROUP BY CustID\n",
    "    \"\"\")\n",
    "T5.createOrReplaceTempView(\"T5\")"
   ]
  },
  {
   "cell_type": "markdown",
   "metadata": {},
   "source": [
    "## 7) T6:\tSelect\tthe\tcustomer\tIDs\twhose\t\tT5.count\t*\t5 <\tT3.count"
   ]
  },
  {
   "cell_type": "code",
   "execution_count": 8,
   "metadata": {},
   "outputs": [
    {
     "name": "stdout",
     "output_type": "stream",
     "text": [
      "+------+\n",
      "|CustID|\n",
      "+------+\n",
      "| 43723|\n",
      "| 31088|\n",
      "+------+\n",
      "\n"
     ]
    },
    {
     "data": {
      "text/plain": [
       "T6: org.apache.spark.sql.DataFrame = [CustID: string]\n"
      ]
     },
     "execution_count": 8,
     "metadata": {},
     "output_type": "execute_result"
    }
   ],
   "source": [
    "var T6 = spark.sql(\"\"\"\n",
    "    SELECT T5.CustID\n",
    "    FROM T5\n",
    "    JOIN T3\n",
    "    ON T5.CustID = T3.CustID\n",
    "    WHERE (T5.TransCount * 5) < T3.TransCount\n",
    "    GROUP BY T5.CustID\n",
    "    \"\"\")\n",
    "transactionsDF.createOrReplaceTempView(\"T6\")\n",
    "T6.show()"
   ]
  },
  {
   "cell_type": "code",
   "execution_count": null,
   "metadata": {},
   "outputs": [],
   "source": []
  }
 ],
 "metadata": {
  "kernelspec": {
   "display_name": "spylon-kernel",
   "language": "scala",
   "name": "spylon-kernel"
  },
  "language_info": {
   "codemirror_mode": "text/x-scala",
   "file_extension": ".scala",
   "help_links": [
    {
     "text": "MetaKernel Magics",
     "url": "https://metakernel.readthedocs.io/en/latest/source/README.html"
    }
   ],
   "mimetype": "text/x-scala",
   "name": "scala",
   "pygments_lexer": "scala",
   "version": "0.4.1"
  }
 },
 "nbformat": 4,
 "nbformat_minor": 2
}
