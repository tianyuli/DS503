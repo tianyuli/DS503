{
 "cells": [
  {
   "cell_type": "code",
   "execution_count": 28,
   "metadata": {
    "scrolled": false
   },
   "outputs": [
    {
     "data": {
      "text/plain": [
       "import org.apache.spark.sql.Row\n",
       "import org.apache.spark.sql.types._\n",
       "transactionsRDD: org.apache.spark.rdd.RDD[String] = Transactions.csv MapPartitionsRDD[116] at textFile at <console>:39\n",
       "schemaString: String = TransID CustID TransTotal TransNumItems TransDesc\n",
       "fields: Array[org.apache.spark.sql.types.StructField] = Array(StructField(TransID,StringType,true), StructField(CustID,StringType,true), StructField(TransTotal,StringType,true), StructField(TransNumItems,StringType,true), StructField(TransDesc,StringType,true))\n",
       "schema: org.apache.spark.sql.types.StructType = StructType(StructField(TransID,StringType,true), StructField(CustID,StringType,true), StructField(TransTotal,StringType,true), StructField(TransNumItems,StringType,true), StructField(TransDesc,StringType,true))\n",
       "rowRDD: org.apac..."
      ]
     },
     "execution_count": 28,
     "metadata": {},
     "output_type": "execute_result"
    }
   ],
   "source": [
    "import org.apache.spark.sql.Row\n",
    "import org.apache.spark.sql.types._\n",
    "\n",
    "val transactionsRDD = sc.textFile(\"Transactions.csv\")\n",
    "val schemaString = \"TransID CustID TransTotal TransNumItems TransDesc\"\n",
    "\n",
    "val fields = schemaString.split(\" \").\n",
    "    map(fieldName => StructField(fieldName, StringType, nullable = true))\n",
    "val schema = StructType(fields)\n",
    "\n",
    "val rowRDD = transactionsRDD.\n",
    "    map(_.split(\",\")).\n",
    "    map(attributes => Row(attributes(0), attributes(1), attributes(2), attributes(3), attributes(4).trim))\n",
    "val transactionsDF = spark.createDataFrame(rowRDD, schema)\n",
    "transactionsDF.createOrReplaceTempView(\"transactions\")\n"
   ]
  },
  {
   "cell_type": "markdown",
   "metadata": {},
   "source": [
    "## T1:\tFilter\tout\t(drop)\tthe\ttransactions\tfrom\tT whose\ttotal\tamount\tis\tless\tthan\t$200"
   ]
  },
  {
   "cell_type": "code",
   "execution_count": 29,
   "metadata": {
    "scrolled": true
   },
   "outputs": [
    {
     "data": {
      "text/plain": [
       "T1: org.apache.spark.sql.DataFrame = [TransID: string, CustID: string ... 3 more fields]\n"
      ]
     },
     "execution_count": 29,
     "metadata": {},
     "output_type": "execute_result"
    }
   ],
   "source": [
    "val T1 = spark.sql(\"\"\"\n",
    "    SELECT *\n",
    "    FROM transactions\n",
    "    WHERE TransTotal > 200\n",
    "    \"\"\")\n",
    "T1.createOrReplaceTempView(\"T1\")\n",
    "T1.show()"
   ]
  },
  {
   "cell_type": "markdown",
   "metadata": {},
   "source": [
    "## T2:\tOver\tT1,\tgroup\tthe\ttransactions\tby\tthe\tNumber\tof\tItems\tit\thas,\tand\tfor\teach\tgroup\tcalculate\tthe\tsum\tof\ttotal\tamounts,\tthe\taverage\tof\ttotal\tamounts,\tthe\tmin\tand\tthe\tmax\tof\tthe\ttotal\tamounts.\t"
   ]
  },
  {
   "cell_type": "code",
   "execution_count": 30,
   "metadata": {},
   "outputs": [
    {
     "data": {
      "text/plain": [
       "T2: org.apache.spark.sql.DataFrame = [TransNumItems: string, sum: double ... 3 more fields]\n"
      ]
     },
     "execution_count": 30,
     "metadata": {},
     "output_type": "execute_result"
    }
   ],
   "source": [
    "var T2 = spark.sql(\"\"\"\n",
    "    SELECT TransNumItems, sum(TransTotal) as sum, avg(TransTotal) as avg, min(TransTotal) as min, max(TransTotal) as max\n",
    "    FROM T1\n",
    "    GROUP BY TransNumItems\n",
    "    \"\"\")\n",
    "T2.createOrReplaceTempView(\"T2\")"
   ]
  },
  {
   "cell_type": "markdown",
   "metadata": {},
   "source": [
    "## 3) Report\tback\tT2\tto\tthe\tclient\tside"
   ]
  },
  {
   "cell_type": "code",
   "execution_count": 31,
   "metadata": {},
   "outputs": [
    {
     "name": "stdout",
     "output_type": "stream",
     "text": [
      "+-------------+--------------------+-----------------+---------+---------+\n",
      "|TransNumItems|                 sum|              avg|      min|      max|\n",
      "+-------------+--------------------+-----------------+---------+---------+\n",
      "|            7| 2.421711585318697E8|600.8792404792464|201.00133| 999.9954|\n",
      "|            3|2.4242169683265054E8| 601.043045688201|201.00014| 999.9958|\n",
      "|            8|2.4245821955806014E8|600.3417450746413|201.00081|999.99817|\n",
      "|            5|2.4231987651652923E8|600.2726805848382|201.00082|999.99786|\n",
      "|            6|2.4224600543386957E8|600.4972755537669|201.00043| 999.9986|\n",
      "|            9| 2.422839078002099E8|600.2713114190681|201.00046| 999.9986|\n",
      "|            1|2.4207206600245968E8|600.7600727707385| 201.0027| 999.9969|\n",
      "|           10| 2.421600771422307E8|600.4405538805236|201.00526| 999.9999|\n",
      "|            4|2.4258066094350022E8|600.8338558069555|201.00224|999.99963|\n",
      "|            2| 2.427062171982407E8|600.9379472521242|201.00145|999.99817|\n",
      "+-------------+--------------------+-----------------+---------+---------+\n",
      "\n"
     ]
    }
   ],
   "source": [
    "T2.show()"
   ]
  },
  {
   "cell_type": "markdown",
   "metadata": {},
   "source": [
    "## 4) T3:\tOver\tT1,\tgroup\tthe\ttransactions\tby\tcustomer\tID,\tand\tfor\teach\tgroup\treport\tthe\tcustomer\tID,\tand\tthe\ttransactions’\tcount.\t"
   ]
  },
  {
   "cell_type": "code",
   "execution_count": 32,
   "metadata": {
    "scrolled": true
   },
   "outputs": [
    {
     "name": "stdout",
     "output_type": "stream",
     "text": [
      "+------+----------+\n",
      "|CustID|TransCount|\n",
      "+------+----------+\n",
      "| 18726|        84|\n",
      "| 20569|        89|\n",
      "| 48402|        81|\n",
      "| 19095|        81|\n",
      "|  7273|        81|\n",
      "| 18556|        78|\n",
      "|  3414|        73|\n",
      "| 31713|        77|\n",
      "|  3210|       105|\n",
      "|  4821|        81|\n",
      "| 44446|        61|\n",
      "| 29549|        70|\n",
      "| 14899|        76|\n",
      "| 45157|        81|\n",
      "| 22121|        87|\n",
      "| 21889|        85|\n",
      "| 39659|        74|\n",
      "| 10351|        78|\n",
      "|   829|        75|\n",
      "| 22728|        77|\n",
      "+------+----------+\n",
      "only showing top 20 rows\n",
      "\n"
     ]
    },
    {
     "data": {
      "text/plain": [
       "T3: org.apache.spark.sql.DataFrame = [CustID: string, TransCount: bigint]\n"
      ]
     },
     "execution_count": 32,
     "metadata": {},
     "output_type": "execute_result"
    }
   ],
   "source": [
    "var T3 = spark.sql(\"\"\"\n",
    "    SELECT CustID, count(*) as TransCount\n",
    "    FROM T1\n",
    "    GROUP BY CustID\n",
    "    \"\"\")\n",
    "T3.createOrReplaceTempView(\"T3\")\n",
    "T3.show()"
   ]
  },
  {
   "cell_type": "markdown",
   "metadata": {},
   "source": [
    "## 5) T4:\tFilter\tout\t(drop)\tthe\ttransactions\tfrom\tT whose\ttotal\tamount\tis\tless\tthan $600"
   ]
  },
  {
   "cell_type": "code",
   "execution_count": 33,
   "metadata": {
    "scrolled": true
   },
   "outputs": [
    {
     "data": {
      "text/plain": [
       "T4: org.apache.spark.sql.DataFrame = [TransID: string, CustID: string ... 3 more fields]\n"
      ]
     },
     "execution_count": 33,
     "metadata": {},
     "output_type": "execute_result"
    }
   ],
   "source": [
    "var T4 = spark.sql(\"\"\"\n",
    "    SELECT *\n",
    "    FROM transactions\n",
    "    WHERE TransTotal < 600\n",
    "    \"\"\")\n",
    "T4.createOrReplaceTempView(\"T4\")\n",
    "T4.show()"
   ]
  },
  {
   "cell_type": "markdown",
   "metadata": {},
   "source": [
    "## 6) T5:\tOver\tT4,\tgroup\tthe\ttransactions\tby\tcustomer\tID,\tand\tfor\teach\tgroup\treport\tthe\tcustomer\tID,\tand\tthe\ttransactions’\tcount.\t"
   ]
  },
  {
   "cell_type": "code",
   "execution_count": 35,
   "metadata": {
    "scrolled": false
   },
   "outputs": [
    {
     "data": {
      "text/plain": [
       "T5: org.apache.spark.sql.DataFrame = [CustID: string, TransCount: bigint]\n"
      ]
     },
     "execution_count": 35,
     "metadata": {},
     "output_type": "execute_result"
    }
   ],
   "source": [
    "var T5 = spark.sql(\"\"\"\n",
    "    SELECT CustID, count(*) as TransCount\n",
    "    FROM T4\n",
    "    GROUP BY CustID\n",
    "    \"\"\")\n",
    "T5.createOrReplaceTempView(\"T5\")"
   ]
  },
  {
   "cell_type": "markdown",
   "metadata": {},
   "source": [
    "## 7) T6:\tSelect\tthe\tcustomer\tIDs\twhose\t\tT5.count\t*\t5 <\tT3.count"
   ]
  },
  {
   "cell_type": "code",
   "execution_count": 36,
   "metadata": {},
   "outputs": [
    {
     "name": "stdout",
     "output_type": "stream",
     "text": [
      "+------+\n",
      "|CustID|\n",
      "+------+\n",
      "+------+\n",
      "\n"
     ]
    },
    {
     "data": {
      "text/plain": [
       "T6: org.apache.spark.sql.DataFrame = [CustID: string]\n"
      ]
     },
     "execution_count": 36,
     "metadata": {},
     "output_type": "execute_result"
    }
   ],
   "source": [
    "var T6 = spark.sql(\"\"\"\n",
    "    SELECT T5.CustID\n",
    "    FROM T5\n",
    "    JOIN T3\n",
    "    ON T5.CustID = T3.CustID\n",
    "    WHERE (T5.TransCount * 5) < T3.TransCount\n",
    "    GROUP BY T5.CustID\n",
    "    \"\"\")\n",
    "transactionsDF.createOrReplaceTempView(\"T6\")\n",
    "T6.show()"
   ]
  },
  {
   "cell_type": "code",
   "execution_count": null,
   "metadata": {},
   "outputs": [],
   "source": []
  }
 ],
 "metadata": {
  "kernelspec": {
   "display_name": "spylon-kernel",
   "language": "scala",
   "name": "spylon-kernel"
  },
  "language_info": {
   "codemirror_mode": "text/x-scala",
   "file_extension": ".scala",
   "help_links": [
    {
     "text": "MetaKernel Magics",
     "url": "https://metakernel.readthedocs.io/en/latest/source/README.html"
    }
   ],
   "mimetype": "text/x-scala",
   "name": "scala",
   "pygments_lexer": "scala",
   "version": "0.4.1"
  }
 },
 "nbformat": 4,
 "nbformat_minor": 2
}
