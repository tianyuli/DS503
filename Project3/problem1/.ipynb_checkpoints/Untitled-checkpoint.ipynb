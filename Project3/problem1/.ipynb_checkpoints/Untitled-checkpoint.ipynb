{
 "cells": [
  {
   "cell_type": "code",
   "execution_count": 5,
   "metadata": {},
   "outputs": [],
   "source": [
    "from pyspark.sql.types import StructType, IntegerType, FloatType, StructField, StringType\n",
    "spark = SparkSession \\\n",
    "    .builder \\\n",
    "    .appName(\"Python Spark SQL basic example\") \\\n",
    "    .config(\"spark.some.config.option\", \"some-value\") \\\n",
    "    .getOrCreate()\n",
    "schemaString = \"transaction_id customer_id total_amount item_count description\"\n",
    "customSchema = StructType([\n",
    "    StructField(\"transaction_id\", IntegerType(), True),        \n",
    "    StructField(\"customer_id\", IntegerType(), True),\n",
    "    StructField(\"total_amount\", FloatType(), True),\n",
    "    StructField(\"item_count\", IntegerType(), True),\n",
    "    StructField(\"description\", StringType(), True),\n",
    "])"
   ]
  },
  {
   "cell_type": "code",
   "execution_count": 7,
   "metadata": {},
   "outputs": [],
   "source": [
    "df = spark.read.load('test.csv', format=\"csv\", header=\"true\", sep=',', schema=customSchema)"
   ]
  },
  {
   "cell_type": "code",
   "execution_count": 8,
   "metadata": {},
   "outputs": [
    {
     "name": "stdout",
     "output_type": "stream",
     "text": [
      "+--------------+-----------+------------+----------+--------------------+\n",
      "|transaction_id|customer_id|total_amount|item_count|         description|\n",
      "+--------------+-----------+------------+----------+--------------------+\n",
      "|             2|      24567|   119.68945|        10|yg5osqfmtqlreme6b...|\n",
      "|             3|      10311|    563.8975|        10|9yc74al32gyx4hmpu...|\n",
      "|             4|      14630|    737.5072|         4|bdnglgyulcln7zl9i...|\n",
      "|             5|      38528|   520.28046|         3|9nvr6vb2ouppqqv8l...|\n",
      "|             6|       4505|    694.3501|         6|j6eoz2r5swlpjpxkq...|\n",
      "|             7|      12466|    283.8117|         8|wrwfqu49uakdxqq2c...|\n",
      "|             8|      16572|    331.2615|         6|7bq937yzswhhlejos...|\n",
      "|             9|      18696|    380.0146|         1|v77phaie3detj3tm5...|\n",
      "|            10|      11084|    781.5895|         1|f5sj0wmi9pmmmkc5w...|\n",
      "|            11|       8115|    958.5794|         2|igxkh8nzn7iralfn4...|\n",
      "|            12|      34634|    23.25762|         5|vvtpchy4tddjdnige...|\n",
      "|            13|      36239|    302.1748|         9|iyo7s15aib3ll9ug3...|\n",
      "|            14|      45097|   206.60675|         5|dlcq63uctjfrtyjvc...|\n",
      "|            15|      23428|    907.9976|         7|hura8k4tv7w8u6hbj...|\n",
      "|            16|      15586|    846.5182|         2|2qx42jju6gn2i3tw6...|\n",
      "|            17|      18846|   329.52203|         8|15hrrpvzsz7isjvip...|\n",
      "|            18|      32477|    235.0295|         5|560j5i030xmykpyao...|\n",
      "|            19|      14422|   643.40985|         4|cgrp95ubdh6l0z978...|\n",
      "|            20|      15024|    948.1538|         3|nhagydrshd892xw6i...|\n",
      "+--------------+-----------+------------+----------+--------------------+\n",
      "\n"
     ]
    }
   ],
   "source": [
    "df.show()"
   ]
  },
  {
   "cell_type": "code",
   "execution_count": 10,
   "metadata": {},
   "outputs": [
    {
     "name": "stdout",
     "output_type": "stream",
     "text": [
      "+--------------+-----------+------------+----------+--------------------+\n",
      "|transaction_id|customer_id|total_amount|item_count|         description|\n",
      "+--------------+-----------+------------+----------+--------------------+\n",
      "|             3|      10311|    563.8975|        10|9yc74al32gyx4hmpu...|\n",
      "|             4|      14630|    737.5072|         4|bdnglgyulcln7zl9i...|\n",
      "|             5|      38528|   520.28046|         3|9nvr6vb2ouppqqv8l...|\n",
      "|             6|       4505|    694.3501|         6|j6eoz2r5swlpjpxkq...|\n",
      "|             7|      12466|    283.8117|         8|wrwfqu49uakdxqq2c...|\n",
      "|             8|      16572|    331.2615|         6|7bq937yzswhhlejos...|\n",
      "|             9|      18696|    380.0146|         1|v77phaie3detj3tm5...|\n",
      "|            10|      11084|    781.5895|         1|f5sj0wmi9pmmmkc5w...|\n",
      "|            11|       8115|    958.5794|         2|igxkh8nzn7iralfn4...|\n",
      "|            13|      36239|    302.1748|         9|iyo7s15aib3ll9ug3...|\n",
      "|            14|      45097|   206.60675|         5|dlcq63uctjfrtyjvc...|\n",
      "|            15|      23428|    907.9976|         7|hura8k4tv7w8u6hbj...|\n",
      "|            16|      15586|    846.5182|         2|2qx42jju6gn2i3tw6...|\n",
      "|            17|      18846|   329.52203|         8|15hrrpvzsz7isjvip...|\n",
      "|            18|      32477|    235.0295|         5|560j5i030xmykpyao...|\n",
      "|            19|      14422|   643.40985|         4|cgrp95ubdh6l0z978...|\n",
      "|            20|      15024|    948.1538|         3|nhagydrshd892xw6i...|\n",
      "+--------------+-----------+------------+----------+--------------------+\n",
      "\n"
     ]
    }
   ],
   "source": [
    "T1 = df.filter(df['total_amount'] > 200).show()"
   ]
  },
  {
   "cell_type": "code",
   "execution_count": null,
   "metadata": {},
   "outputs": [],
   "source": [
    "Q1 = spark.sql(\"\"\"\n",
    "    SELECT *\n",
    "    FROM transactions\n",
    "    WHERE total_amount > 200\n",
    "    \"\"\")\n"
   ]
  },
  {
   "cell_type": "code",
   "execution_count": null,
   "metadata": {},
   "outputs": [],
   "source": [
    "Transactions"
   ]
  },
  {
   "cell_type": "code",
   "execution_count": null,
   "metadata": {},
   "outputs": [],
   "source": [
    "# SQL can be run over DataFrames that have been registered as a table.\n",
    "results = spark.sql(\"SELECT * FROM Transactions\")\n",
    "\n",
    "results.show()"
   ]
  },
  {
   "cell_type": "code",
   "execution_count": null,
   "metadata": {},
   "outputs": [],
   "source": []
  },
  {
   "cell_type": "code",
   "execution_count": null,
   "metadata": {
    "scrolled": true
   },
   "outputs": [],
   "source": []
  },
  {
   "cell_type": "code",
   "execution_count": null,
   "metadata": {},
   "outputs": [],
   "source": [
    "# df.option(\"header\", \"true\").schema(schema).load(\"test.csv\")"
   ]
  },
  {
   "cell_type": "code",
   "execution_count": null,
   "metadata": {
    "scrolled": true
   },
   "outputs": [],
   "source": [
    "\n",
    "# df.select('transaction_id')"
   ]
  },
  {
   "cell_type": "code",
   "execution_count": null,
   "metadata": {},
   "outputs": [],
   "source": []
  },
  {
   "cell_type": "code",
   "execution_count": null,
   "metadata": {},
   "outputs": [],
   "source": [
    "\n"
   ]
  }
 ],
 "metadata": {
  "kernelspec": {
   "display_name": "Python 3",
   "language": "python",
   "name": "python3"
  },
  "language_info": {
   "codemirror_mode": {
    "name": "ipython",
    "version": 3
   },
   "file_extension": ".py",
   "mimetype": "text/x-python",
   "name": "python",
   "nbconvert_exporter": "python",
   "pygments_lexer": "ipython3",
   "version": "3.6.8"
  }
 },
 "nbformat": 4,
 "nbformat_minor": 2
}
