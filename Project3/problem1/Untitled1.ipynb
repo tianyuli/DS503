{
 "cells": [
  {
   "cell_type": "code",
   "execution_count": 1,
   "metadata": {
    "scrolled": false
   },
   "outputs": [
    {
     "data": {
      "text/plain": [
       "Intitializing Scala interpreter ..."
      ]
     },
     "metadata": {},
     "output_type": "display_data"
    },
    {
     "data": {
      "text/plain": [
       "Spark Web UI available at http://192.168.174.130:4040\n",
       "SparkContext available as 'sc' (version = 2.4.4, master = local[*], app id = local-1572854802460)\n",
       "SparkSession available as 'spark'\n"
      ]
     },
     "metadata": {},
     "output_type": "display_data"
    },
    {
     "data": {
      "text/plain": [
       "import org.apache.spark.sql.Row\n",
       "import org.apache.spark.sql.types._\n",
       "transactionsRDD: org.apache.spark.rdd.RDD[String] = test.csv MapPartitionsRDD[1] at textFile at <console>:28\n",
       "schemaString: String = transaction_id customer_id total_amount item_count description\n",
       "fields: Array[org.apache.spark.sql.types.StructField] = Array(StructField(transaction_id,StringType,true), StructField(customer_id,StringType,true), StructField(total_amount,StringType,true), StructField(item_count,StringType,true), StructField(description,StringType,true))\n",
       "schema: org.apache.spark.sql.types.StructType = StructType(StructField(transaction_id,StringType,true), StructField(customer_id,StringType,true), StructField(total_amount,StringType,true), StructField(item_count,StringType,true), StructField(description,Strin..."
      ]
     },
     "execution_count": 1,
     "metadata": {},
     "output_type": "execute_result"
    }
   ],
   "source": [
    "import org.apache.spark.sql.Row\n",
    "import org.apache.spark.sql.types._\n",
    "\n",
    "val transactionsRDD = sc.textFile(\"test.csv\")\n",
    "val schemaString = \"transaction_id customer_id total_amount item_count description\"\n",
    "\n",
    "val fields = schemaString.split(\" \").\n",
    "    map(fieldName => StructField(fieldName, StringType, nullable = true))\n",
    "val schema = StructType(fields)\n",
    "\n",
    "val rowRDD = transactionsRDD.\n",
    "    map(_.split(\",\")).\n",
    "    map(attributes => Row(attributes(0), attributes(1), attributes(2), attributes(3), attributes(4).trim))\n",
    "val transactionsDF = spark.createDataFrame(rowRDD, schema)\n",
    "transactionsDF.createOrReplaceTempView(\"transactions\")\n",
    "\n",
    "val results = spark.sql(\"\"\"\n",
    "    SELECT *\n",
    "    FROM transactions\n",
    "    \"\"\")"
   ]
  },
  {
   "cell_type": "code",
   "execution_count": 3,
   "metadata": {
    "scrolled": true
   },
   "outputs": [
    {
     "name": "stdout",
     "output_type": "stream",
     "text": [
      "+--------------+-----------+------------+----------+--------------------+\n",
      "|transaction_id|customer_id|total_amount|item_count|         description|\n",
      "+--------------+-----------+------------+----------+--------------------+\n",
      "|             1|      13931|   947.27325|        10|7tk17k7r14ixnkgbw9xc|\n",
      "|             2|      24567|   119.68945|        10|yg5osqfmtqlreme6b...|\n",
      "|             3|      10311|    563.8975|        10|9yc74al32gyx4hmpu...|\n",
      "|             4|      14630|    737.5072|         4|bdnglgyulcln7zl9i...|\n",
      "|             5|      38528|   520.28046|         3|9nvr6vb2ouppqqv8l...|\n",
      "|             6|       4505|    694.3501|         6|j6eoz2r5swlpjpxkq...|\n",
      "|             7|      12466|    283.8117|         8|wrwfqu49uakdxqq2c...|\n",
      "|             8|      16572|    331.2615|         6|7bq937yzswhhlejos...|\n",
      "|             9|      18696|    380.0146|         1|v77phaie3detj3tm5...|\n",
      "|            10|      11084|    781.5895|         1|f5sj0wmi9pmmmkc5w...|\n",
      "|            11|       8115|    958.5794|         2|igxkh8nzn7iralfn4...|\n",
      "|            12|      34634|    23.25762|         5|vvtpchy4tddjdnige...|\n",
      "|            13|      36239|    302.1748|         9|iyo7s15aib3ll9ug3...|\n",
      "|            14|      45097|   206.60675|         5|dlcq63uctjfrtyjvc...|\n",
      "|            15|      23428|    907.9976|         7|hura8k4tv7w8u6hbj...|\n",
      "|            16|      15586|    846.5182|         2|2qx42jju6gn2i3tw6...|\n",
      "|            17|      18846|   329.52203|         8|15hrrpvzsz7isjvip...|\n",
      "|            18|      32477|    235.0295|         5|560j5i030xmykpyao...|\n",
      "|            19|      14422|   643.40985|         4|cgrp95ubdh6l0z978...|\n",
      "|            20|      15024|    948.1538|         3|nhagydrshd892xw6i...|\n",
      "+--------------+-----------+------------+----------+--------------------+\n",
      "\n"
     ]
    }
   ],
   "source": [
    "results.show()"
   ]
  },
  {
   "cell_type": "code",
   "execution_count": 4,
   "metadata": {},
   "outputs": [
    {
     "name": "stdout",
     "output_type": "stream",
     "text": [
      "+--------------+-----------+------------+----------+--------------------+\n",
      "|transaction_id|customer_id|total_amount|item_count|         description|\n",
      "+--------------+-----------+------------+----------+--------------------+\n",
      "|             1|      13931|   947.27325|        10|7tk17k7r14ixnkgbw9xc|\n",
      "|             3|      10311|    563.8975|        10|9yc74al32gyx4hmpu...|\n",
      "|             4|      14630|    737.5072|         4|bdnglgyulcln7zl9i...|\n",
      "|             5|      38528|   520.28046|         3|9nvr6vb2ouppqqv8l...|\n",
      "|             6|       4505|    694.3501|         6|j6eoz2r5swlpjpxkq...|\n",
      "|             7|      12466|    283.8117|         8|wrwfqu49uakdxqq2c...|\n",
      "|             8|      16572|    331.2615|         6|7bq937yzswhhlejos...|\n",
      "|             9|      18696|    380.0146|         1|v77phaie3detj3tm5...|\n",
      "|            10|      11084|    781.5895|         1|f5sj0wmi9pmmmkc5w...|\n",
      "|            11|       8115|    958.5794|         2|igxkh8nzn7iralfn4...|\n",
      "|            13|      36239|    302.1748|         9|iyo7s15aib3ll9ug3...|\n",
      "|            14|      45097|   206.60675|         5|dlcq63uctjfrtyjvc...|\n",
      "|            15|      23428|    907.9976|         7|hura8k4tv7w8u6hbj...|\n",
      "|            16|      15586|    846.5182|         2|2qx42jju6gn2i3tw6...|\n",
      "|            17|      18846|   329.52203|         8|15hrrpvzsz7isjvip...|\n",
      "|            18|      32477|    235.0295|         5|560j5i030xmykpyao...|\n",
      "|            19|      14422|   643.40985|         4|cgrp95ubdh6l0z978...|\n",
      "|            20|      15024|    948.1538|         3|nhagydrshd892xw6i...|\n",
      "+--------------+-----------+------------+----------+--------------------+\n",
      "\n"
     ]
    },
    {
     "data": {
      "text/plain": [
       "T1: org.apache.spark.sql.DataFrame = [transaction_id: string, customer_id: string ... 3 more fields]\n"
      ]
     },
     "execution_count": 4,
     "metadata": {},
     "output_type": "execute_result"
    }
   ],
   "source": [
    "val T1 = spark.sql(\"\"\"\n",
    "    SELECT *\n",
    "    FROM transactions\n",
    "    WHERE total_amount > 200\n",
    "    \"\"\")\n",
    "transactionsDF.registerTempTable(\"T1\")\n",
    "T1.show()"
   ]
  },
  {
   "cell_type": "code",
   "execution_count": 6,
   "metadata": {},
   "outputs": [
    {
     "name": "stdout",
     "output_type": "stream",
     "text": [
      "+----------+----------+------------------+---------+---------+\n",
      "|item_count|       sum|               avg|      min|      max|\n",
      "+----------+----------+------------------+---------+---------+\n",
      "|         7|  907.9976|          907.9976| 907.9976| 907.9976|\n",
      "|         3|1468.43426|         734.21713|520.28046| 948.1538|\n",
      "|         8| 613.33373|        306.666865| 283.8117|329.52203|\n",
      "|         5| 464.89387|154.96462333333332|206.60675| 235.0295|\n",
      "|         6| 1025.6116|          512.8058| 331.2615| 694.3501|\n",
      "|         9|  302.1748|          302.1748| 302.1748| 302.1748|\n",
      "|         1| 1161.6041|         580.80205| 380.0146| 781.5895|\n",
      "|        10| 1630.8602| 543.6200666666667|119.68945|947.27325|\n",
      "|         4|1380.91705|        690.458525|643.40985| 737.5072|\n",
      "|         2| 1805.0976|          902.5488| 846.5182| 958.5794|\n",
      "+----------+----------+------------------+---------+---------+\n",
      "\n"
     ]
    },
    {
     "data": {
      "text/plain": [
       "T2: org.apache.spark.sql.DataFrame = [item_count: string, sum: double ... 3 more fields]\n"
      ]
     },
     "execution_count": 6,
     "metadata": {},
     "output_type": "execute_result"
    }
   ],
   "source": [
    "var T2 = spark.sql(\"\"\"\n",
    "    SELECT item_count, sum(total_amount) as sum, avg(total_amount) as avg, min(total_amount) as min, max(total_amount) as max\n",
    "    FROM T1\n",
    "    GROUP BY item_count\n",
    "    \"\"\")\n",
    "transactionsDF.registerTempTable(\"T2\")\n",
    "T2.show()"
   ]
  },
  {
   "cell_type": "code",
   "execution_count": null,
   "metadata": {},
   "outputs": [],
   "source": []
  }
 ],
 "metadata": {
  "kernelspec": {
   "display_name": "spylon-kernel",
   "language": "scala",
   "name": "spylon-kernel"
  },
  "language_info": {
   "codemirror_mode": "text/x-scala",
   "file_extension": ".scala",
   "help_links": [
    {
     "text": "MetaKernel Magics",
     "url": "https://metakernel.readthedocs.io/en/latest/source/README.html"
    }
   ],
   "mimetype": "text/x-scala",
   "name": "scala",
   "pygments_lexer": "scala",
   "version": "0.4.1"
  }
 },
 "nbformat": 4,
 "nbformat_minor": 2
}
