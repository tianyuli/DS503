{
 "cells": [
  {
   "cell_type": "code",
   "execution_count": 28,
   "metadata": {},
   "outputs": [
    {
     "ename": "SyntaxError",
     "evalue": "invalid syntax (<ipython-input-28-1fef740e4ec8>, line 2)",
     "output_type": "error",
     "traceback": [
      "\u001b[0;36m  File \u001b[0;32m\"<ipython-input-28-1fef740e4ec8>\"\u001b[0;36m, line \u001b[0;32m2\u001b[0m\n\u001b[0;31m    // four cornor Grid\u001b[0m\n\u001b[0m     ^\u001b[0m\n\u001b[0;31mSyntaxError\u001b[0m\u001b[0;31m:\u001b[0m invalid syntax\n"
     ]
    }
   ],
   "source": [
    "def Neighbor(x):\n",
    "#     /# four cornor Grid\n",
    "#     if (x == 1)\n",
    "#         List(2,501,502)\n",
    "#     else if (x == 500)\n",
    "#         List(499,999,1000)\n",
    "#     else if (x == 249501)\n",
    "#         List(249001,249002,249502)\n",
    "#     else if (x ==250000) \n",
    "#         List(249499, 249500, 249999)\n",
    "    \n",
    "#     // four edges\n",
    "#     // up\n",
    "#     else if ( x > 1 & x < 500)\n",
    "#         List(x-1, x+1, x+500, x+500-1, x+500+1)\n",
    "#     // down\n",
    "#     else if ( x > 249501 & x < 250000)\n",
    "#         List(x-1, x+1, x-500, x-500-1, x-500+1)\n",
    "#     // left\n",
    "#     else if ( x%500 == 1 )\n",
    "#         List(x+500, x+500+1, x+1, x-500, x-500+1)\n",
    "#     //right\n",
    "    if ( x%500 == 0 )\n",
    "        return (x+500, x+500-1, x-1, x-500, x-500-1)\n",
    "    \n",
    "#     //inside Grids\n",
    "    else\n",
    "        return (x-500-1, x-500, x-500+1, x-1, x+1, x+500-1, x+500, x+500+1)\n"
   ]
  },
  {
   "cell_type": "code",
   "execution_count": 27,
   "metadata": {},
   "outputs": [
    {
     "ename": "NameError",
     "evalue": "name 'Neighbor' is not defined",
     "output_type": "error",
     "traceback": [
      "\u001b[0;31m---------------------------------------------------------------------------\u001b[0m",
      "\u001b[0;31mNameError\u001b[0m                                 Traceback (most recent call last)",
      "\u001b[0;32m<ipython-input-27-ec8685019eb0>\u001b[0m in \u001b[0;36m<module>\u001b[0;34m\u001b[0m\n\u001b[0;32m----> 1\u001b[0;31m \u001b[0mNeighbor\u001b[0m\u001b[0;34m(\u001b[0m\u001b[0;36m500\u001b[0m\u001b[0;34m)\u001b[0m\u001b[0;34m\u001b[0m\u001b[0;34m\u001b[0m\u001b[0m\n\u001b[0m",
      "\u001b[0;31mNameError\u001b[0m: name 'Neighbor' is not defined"
     ]
    }
   ],
   "source": [
    "Neighbor(500)"
   ]
  },
  {
   "cell_type": "code",
   "execution_count": 24,
   "metadata": {},
   "outputs": [
    {
     "data": {
      "text/plain": [
       "249501"
      ]
     },
     "execution_count": 24,
     "metadata": {},
     "output_type": "execute_result"
    }
   ],
   "source": [
    "gridID(0,0)"
   ]
  },
  {
   "cell_type": "code",
   "execution_count": 14,
   "metadata": {},
   "outputs": [
    {
     "data": {
      "text/plain": [
       "500"
      ]
     },
     "execution_count": 14,
     "metadata": {},
     "output_type": "execute_result"
    }
   ],
   "source": [
    "gridID(9999, 9999)"
   ]
  },
  {
   "cell_type": "code",
   "execution_count": 15,
   "metadata": {},
   "outputs": [
    {
     "data": {
      "text/plain": [
       "250000"
      ]
     },
     "execution_count": 15,
     "metadata": {},
     "output_type": "execute_result"
    }
   ],
   "source": [
    "gridID(9999, 2)"
   ]
  },
  {
   "cell_type": "code",
   "execution_count": 16,
   "metadata": {},
   "outputs": [
    {
     "data": {
      "text/plain": [
       "12526"
      ]
     },
     "execution_count": 16,
     "metadata": {},
     "output_type": "execute_result"
    }
   ],
   "source": [
    "gridID(502,9499)"
   ]
  },
  {
   "cell_type": "code",
   "execution_count": null,
   "metadata": {},
   "outputs": [],
   "source": []
  }
 ],
 "metadata": {
  "kernelspec": {
   "display_name": "Python 3",
   "language": "python",
   "name": "python3"
  },
  "language_info": {
   "codemirror_mode": {
    "name": "ipython",
    "version": 3
   },
   "file_extension": ".py",
   "mimetype": "text/x-python",
   "name": "python",
   "nbconvert_exporter": "python",
   "pygments_lexer": "ipython3",
   "version": "3.6.8"
  }
 },
 "nbformat": 4,
 "nbformat_minor": 2
}
